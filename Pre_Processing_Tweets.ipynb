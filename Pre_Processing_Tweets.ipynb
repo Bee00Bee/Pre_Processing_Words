{
 "cells": [
  {
   "cell_type": "markdown",
   "id": "29caf814",
   "metadata": {},
   "source": [
    "**Pre-processing the Tweets**\n",
    "\n",
    "In this project we are going to explore the sentiment analysis of the Twitter dataset by using the [NLTK](https://www.nltk.org/) package.\n",
    "\n",
    "First we need to import the Twitter dataset from NLTK package then dowload it. "
   ]
  },
  {
   "cell_type": "code",
   "execution_count": 1,
   "id": "88ae6cbd",
   "metadata": {},
   "outputs": [],
   "source": [
    "import nltk\n",
    "from nltk.corpus import twitter_samples\n",
    "import matplotlib.pyplot as plt\n",
    "import random"
   ]
  },
  {
   "cell_type": "markdown",
   "id": "53508257",
   "metadata": {},
   "source": [
    "The Twitter dataset has 5000 positive and 5000 negative tweets. The next lines takes the + and - twites. "
   ]
  },
  {
   "cell_type": "code",
   "execution_count": 2,
   "id": "5fe5201d",
   "metadata": {},
   "outputs": [
    {
     "name": "stderr",
     "output_type": "stream",
     "text": [
      "[nltk_data] Downloading package twitter_samples to\n",
      "[nltk_data]     /home/mn/nltk_data...\n",
      "[nltk_data]   Unzipping corpora/twitter_samples.zip.\n"
     ]
    },
    {
     "data": {
      "text/plain": [
       "True"
      ]
     },
     "execution_count": 2,
     "metadata": {},
     "output_type": "execute_result"
    }
   ],
   "source": [
    "nltk.download('twitter_samples')"
   ]
  },
  {
   "cell_type": "code",
   "execution_count": 3,
   "id": "e78169dc",
   "metadata": {},
   "outputs": [],
   "source": [
    "pos_twts = twitter_samples.strings('positive_tweets.json')\n",
    "neg_twts = twitter_samples.strings('negative_tweets.json')"
   ]
  },
  {
   "cell_type": "markdown",
   "id": "cf8abd77",
   "metadata": {},
   "source": [
    "If you are curious to know how many + and - tweets are:"
   ]
  },
  {
   "cell_type": "code",
   "execution_count": 4,
   "id": "e686406d",
   "metadata": {},
   "outputs": [
    {
     "name": "stdout",
     "output_type": "stream",
     "text": [
      "The number of + tweets are  5000  and the number of - tweets are  5000\n"
     ]
    }
   ],
   "source": [
    "print('The number of + tweets are ', len(pos_twts), ' and the number of - tweets are ', len(neg_twts))"
   ]
  },
  {
   "cell_type": "markdown",
   "id": "919d6159",
   "metadata": {},
   "source": [
    "We can visually see the number of + and - tweets from [Matplotlib](https://matplotlib.org/) library. "
   ]
  },
  {
   "cell_type": "code",
   "execution_count": 9,
   "id": "cf4699f1",
   "metadata": {},
   "outputs": [
    {
     "data": {
      "image/png": "[encoded data removed]",
      "text/plain": [
       "<Figure size 432x288 with 1 Axes>"
      ]
     },
     "metadata": {},
     "output_type": "display_data"
    }
   ],
   "source": [
    "pie_size = [len(pos_twts), len(neg_twts)]\n",
    "plt.pie(pie_size, labels = ['+', '-'])\n",
    "plt.show()"
   ]
  },
  {
   "cell_type": "markdown",
   "id": "5447932b",
   "metadata": {},
   "source": [
    "From the pie chart above we can see that the number of + and - tweets are equal. \n",
    "Now we know the size of the tweets what about the texts? what are the charactors in the text? For this reason, I am going to look at one of sentences from each of + and - tweets. "
   ]
  },
  {
   "cell_type": "code",
   "execution_count": 17,
   "id": "59ce35f1",
   "metadata": {},
   "outputs": [
    {
     "name": "stdout",
     "output_type": "stream",
     "text": [
      "One positive tweet sample\n",
      "\u001b[90m@remylauren Im hopefully home in April for a few weeks :):):)\n",
      "\n",
      "\n",
      "One negative tweet\n",
      "\u001b[91m@princessviki13 you're welcome - Shane you don't do online sessions :(\n"
     ]
    }
   ],
   "source": [
    "print('One positive tweet sample')\n",
    "print('\\033[90m' + pos_twts[random.randint(0,5000)])\n",
    "print('\\n')\n",
    "print('One negative tweet sample')\n",
    "print('\\033[91m' + neg_twts[random.randint(0,5000)])"
   ]
  },
  {
   "cell_type": "markdown",
   "id": "97cfe18c",
   "metadata": {},
   "source": [
    "***\n",
    "As we see the tweets includes some marks like @ and # and sometimes hyper links. Before analyzing the tweets we need to take important steps. These steps are:\n",
    "\n",
    "--Tokenizing the strings:\n",
    "We break the string into smaller chunks\n",
    "\n",
    "--Lowercasing the words:\n",
    "Some words are in uppercase and lowercase formats. We need to make the words unify interms of upper/lower case words.\n",
    "\n",
    "--Removing the stop words:\n",
    "The stop words are commonly used words such as \"is\", \"are\", \"the\", and etc. \n",
    "\n",
    "--Stemming:\n",
    "We will find the family of the words and unify them. As examples:\n",
    "am, are, is $\\Rightarrow$ be\n",
    "car, cars, car's, cars' $\\Rightarrow$ car "
   ]
  },
  {
   "cell_type": "markdown",
   "id": "fe313b95",
   "metadata": {},
   "source": [
    "**Removing the marks and links ...**\n",
    "\n",
    "To remove the links and sublinks we use the [re](https://docs.python.org/3/library/re.html) library."
   ]
  },
  {
   "cell_type": "code",
   "execution_count": 71,
   "id": "fc862e94",
   "metadata": {},
   "outputs": [
    {
     "name": "stdout",
     "output_type": "stream",
     "text": [
      "This is the tweet before processing:\n",
      "\n",
      "\u001b[90mwhen u r obsessed with OTH and watching the whole show for a third time  :)))) 💗\n",
      "The tweet after the process:\n",
      "\n",
      "\u001b[89mwhen u r obsessed with OTH and watching the whole show for a third time  :)))) 💗\n"
     ]
    }
   ],
   "source": [
    "import re\n",
    "\n",
    "sample_twt = pos_twts[2015]\n",
    "print('This is the tweet before processing:\\n')\n",
    "print('\\033[90m'+ sample_twt)\n",
    "\n",
    "# removing the links and marks\n",
    "twt2 = re.sub(r'^RT[\\s]+','', sample_twt)\n",
    "twt3 = re.sub(r'https?:\\/\\/.*[\\r\\n]*', '', twt2)\n",
    "twt4 = re.sub(r'#', '', twt3)\n",
    "twt5 = re.sub(r'@', '', twt4)\n",
    "twt6 = re.sub(r'@', '', twt5)\n",
    "\n",
    "print('The tweet after the process:\\n')\n",
    "print('\\033[89m'+ twt6)"
   ]
  },
  {
   "cell_type": "markdown",
   "id": "fcba837d",
   "metadata": {},
   "source": [
    "**Tokenizing**\n",
    "This is down by employing the [tokenizer](https://www.nltk.org/api/nltk.tokenize.html)"
   ]
  },
  {
   "cell_type": "code",
   "execution_count": 72,
   "id": "c2f819f5",
   "metadata": {},
   "outputs": [
    {
     "name": "stdout",
     "output_type": "stream",
     "text": [
      "\u001b[92m\n",
      "The Tweet before tokenizing:\n",
      "when u r obsessed with OTH and watching the whole show for a third time  :)))) 💗\n",
      "\u001b[94m\n",
      "\n",
      "Tokenized tweet:\n",
      "['when', 'u', 'r', 'obsessed', 'with', 'oth', 'and', 'watching', 'the', 'whole', 'show', 'for', 'a', 'third', 'time', ':)', ')', ')', '💗']\n"
     ]
    },
    {
     "name": "stderr",
     "output_type": "stream",
     "text": [
      "[nltk_data] Downloading package punkt to /home/mn/nltk_data...\n",
      "[nltk_data]   Package punkt is already up-to-date!\n"
     ]
    }
   ],
   "source": [
    "from nltk.tokenize import word_tokenize\n",
    "from nltk.tokenize import TweetTokenizer\n",
    "\n",
    "nltk.download('punkt')\n",
    "\n",
    "print('\\033[92m')\n",
    "print('The Tweet before tokenizing:')\n",
    "print(twt6)\n",
    "\n",
    "# start the tokenizer\n",
    "#tokenizer = TweetTokenizer(preserve_case=Flase, strip_handlres=True, reduce_len=True)\n",
    "\n",
    "tokenizer = TweetTokenizer(preserve_case=False, strip_handles=True, reduce_len=True)\n",
    "twt_tokened = tokenizer.tokenize(twt6)\n",
    "\n",
    "print('\\033[94m')\n",
    "print('\\nTokenized tweet:')\n",
    "print(twt_tokened)"
   ]
  },
  {
   "cell_type": "markdown",
   "id": "3be5586b",
   "metadata": {},
   "source": [
    "**Removing the stop words**\n"
   ]
  },
  {
   "cell_type": "code",
   "execution_count": 73,
   "id": "05659f2c",
   "metadata": {},
   "outputs": [
    {
     "name": "stdout",
     "output_type": "stream",
     "text": [
      "list of stop words:\n",
      "['i', 'me', 'my', 'myself', 'we', 'our', 'ours', 'ourselves', 'you', \"you're\", \"you've\", \"you'll\", \"you'd\", 'your', 'yours', 'yourself', 'yourselves', 'he', 'him', 'his', 'himself', 'she', \"she's\", 'her', 'hers', 'herself', 'it', \"it's\", 'its', 'itself', 'they', 'them', 'their', 'theirs', 'themselves', 'what', 'which', 'who', 'whom', 'this', 'that', \"that'll\", 'these', 'those', 'am', 'is', 'are', 'was', 'were', 'be', 'been', 'being', 'have', 'has', 'had', 'having', 'do', 'does', 'did', 'doing', 'a', 'an', 'the', 'and', 'but', 'if', 'or', 'because', 'as', 'until', 'while', 'of', 'at', 'by', 'for', 'with', 'about', 'against', 'between', 'into', 'through', 'during', 'before', 'after', 'above', 'below', 'to', 'from', 'up', 'down', 'in', 'out', 'on', 'off', 'over', 'under', 'again', 'further', 'then', 'once', 'here', 'there', 'when', 'where', 'why', 'how', 'all', 'any', 'both', 'each', 'few', 'more', 'most', 'other', 'some', 'such', 'no', 'nor', 'not', 'only', 'own', 'same', 'so', 'than', 'too', 'very', 's', 't', 'can', 'will', 'just', 'don', \"don't\", 'should', \"should've\", 'now', 'd', 'll', 'm', 'o', 're', 've', 'y', 'ain', 'aren', \"aren't\", 'couldn', \"couldn't\", 'didn', \"didn't\", 'doesn', \"doesn't\", 'hadn', \"hadn't\", 'hasn', \"hasn't\", 'haven', \"haven't\", 'isn', \"isn't\", 'ma', 'mightn', \"mightn't\", 'mustn', \"mustn't\", 'needn', \"needn't\", 'shan', \"shan't\", 'shouldn', \"shouldn't\", 'wasn', \"wasn't\", 'weren', \"weren't\", 'won', \"won't\", 'wouldn', \"wouldn't\"]\n",
      "\n",
      "Punctuations:\n",
      "!\"#$%&'()*+,-./:;<=>?@[\\]^_`{|}~\n"
     ]
    },
    {
     "name": "stderr",
     "output_type": "stream",
     "text": [
      "[nltk_data] Downloading package stopwords to /home/mn/nltk_data...\n",
      "[nltk_data]   Package stopwords is already up-to-date!\n"
     ]
    }
   ],
   "source": [
    "nltk.download('stopwords')\n",
    "\n",
    "import string\n",
    "from nltk.corpus import stopwords\n",
    "from nltk.stem import PorterStemmer\n",
    "\n",
    "stop_wrds_en = stopwords.words('english')\n",
    "\n",
    "print('list of stop words:')\n",
    "print(stop_wrds_en)\n",
    "\n",
    "print('\\nPunctuations:')\n",
    "print(string.punctuation)"
   ]
  },
  {
   "cell_type": "code",
   "execution_count": 74,
   "id": "749d2c19",
   "metadata": {},
   "outputs": [
    {
     "name": "stdout",
     "output_type": "stream",
     "text": [
      "\u001b[94m\n",
      "\n",
      "Tokenized tweet:\n",
      "['when', 'u', 'r', 'obsessed', 'with', 'oth', 'and', 'watching', 'the', 'whole', 'show', 'for', 'a', 'third', 'time', ':)', ')', ')', '💗']\n",
      "\u001b[90m\n",
      "clean tweet:\n",
      "['u', 'r', 'obsessed', 'oth', 'watching', 'whole', 'show', 'third', 'time', ':)', '💗']\n"
     ]
    }
   ],
   "source": [
    "print('\\033[94m')\n",
    "print('\\nTokenized tweet:')\n",
    "print(twt_tokened)\n",
    "\n",
    "clean_twt = []\n",
    "\n",
    "for word in twt_tokened:\n",
    "    if (word not in stop_wrds_en and word not in string.punctuation):\n",
    "        clean_twt.append(word)\n",
    "\n",
    "print('\\033[90m')\n",
    "print('clean tweet:')\n",
    "print(clean_twt)"
   ]
  },
  {
   "cell_type": "markdown",
   "id": "02cb4b9a",
   "metadata": {},
   "source": [
    "**Stemming the tweets**\n",
    "\n",
    "In this process we make the words unify which are in the same family"
   ]
  },
  {
   "cell_type": "code",
   "execution_count": 76,
   "id": "b1de5c9b",
   "metadata": {},
   "outputs": [
    {
     "name": "stdout",
     "output_type": "stream",
     "text": [
      "\u001b[90m\n",
      "clean tweet:\n",
      "['u', 'r', 'obsessed', 'oth', 'watching', 'whole', 'show', 'third', 'time', ':)', '💗']\n",
      "Stemmed words:\n",
      "['u', 'r', 'obsess', 'oth', 'watch', 'whole', 'show', 'third', 'time', ':)', '💗']\n"
     ]
    }
   ],
   "source": [
    "print('\\033[90m')\n",
    "print('clean tweet:')\n",
    "print(clean_twt)\n",
    "\n",
    "stemmer = PorterStemmer()\n",
    "\n",
    "stemed_twt = []\n",
    "\n",
    "for word in clean_twt:\n",
    "    word_stemmed = stemmer.stem(word)\n",
    "    stemed_twt.append(word_stemmed)\n",
    "    \n",
    "print('Stemmed words:')\n",
    "print(stemed_twt)"
   ]
  },
  {
   "cell_type": "markdown",
   "id": "28fc6406",
   "metadata": {},
   "source": [
    "In this Jupyter Notebook the tweets were processed which stop words are removed, strings are tokenized, words are changed into lower cases, and finally the words are stemmed."
   ]
  }
 ],
 "metadata": {
  "kernelspec": {
   "display_name": "Python 3 (ipykernel)",
   "language": "python",
   "name": "python3"
  },
  "language_info": {
   "codemirror_mode": {
    "name": "ipython",
    "version": 3
   },
   "file_extension": ".py",
   "mimetype": "text/x-python",
   "name": "python",
   "nbconvert_exporter": "python",
   "pygments_lexer": "ipython3",
   "version": "3.9.7"
  }
 },
 "nbformat": 4,
 "nbformat_minor": 5
}
